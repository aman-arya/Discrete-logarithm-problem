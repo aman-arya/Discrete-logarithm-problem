{
 "cells": [
  {
   "cell_type": "markdown",
   "metadata": {},
   "source": [
    "# Discrete-logarithm-problem\n",
    "\n",
    "Given a large prime number *p*, a large intgeger *a*, and a number *g* such that every number *b* coprime to *p* is congruent to a power of *g mod p* (i.e. g is a primite root mod p), then *g<sup>a</sup> mod p* = *s* is very easy to compute using the repeated squaring algorithm.  However, determining the value of *a* if we are given *g*, *p* and *s* is extremely diffucult, and thus discrete log is considered a one way function.  Several important public-key cryptographic systems base their security on the assumption that the discrete logarithm problem over carefully chosen groups has no efficient solution. These include Diffie-Hellman Key Exchange, ElGamal encryption, and the Digital Signature Algorithm. \n",
    "\n",
    "While the discrete log problem is considered cryptographically sound, this repository provides three algorithms that provide significant improvement over a brute-force tactic.  They include the Pohlig-Hellman Algorithm (practically the fastest), the Pollard Rho Algorithm and the floyd cycle detection algorithm.\n",
    "\n",
    "## Syntax is specifice sagemath/python \n",
    "\n",
    "\n",
    "Fp = GF(p)\n",
    "\n",
    "## Group order\n",
    "n = p-1\n",
    "\n",
    "## Factprisation of group order. Multiply the list element to get the value n\n",
    "\n",
    "ftr_n = [2 , 1125899907906331 , 1125899907913247 , 1125899907914539 ,1125899907971257 , 1125899907981367 , 1125899907985417 , 1125899908035107 , 1125899908108333 , 1125899908156603 , 1125899908170071 , 1125899908189519 , 1125899908193707 , 1125899908226623 , 1125899908245053 , 1125899908252771 , 1125899908254119 , 1125899908293109 , 1125899908300403 , 1125899908340533 , 1125899908346471 , 1125899908373231 , 1125899908381643 , 1125899908403467 , 1125899908425989 , 1125899908436179 , 1125899908486477 , 1125899908494437 , 1125899908507817 , 1125899908578527 , 1125899908591721 , 1125899908663727 , 1125899908685441 , 1125899908726763 , 1125899908734893 , 1125899908781537 , 1125899908797227 , 1125899908872191 , 1125899908903723 , 1125899908906081 ,1125899908907581]\n",
    "\n",
    "## Generator of Fp*\n",
    "g = Fp(2)\n",
    "\n",
    "\n",
    "## h is \n",
    "h = Fp(p-YourRollNumber)\n",
    "\n",
    "### My roll no = 17025\n",
    "\n",
    "\n",
    "## Find out log_g(h) = ? \n",
    "\n",
    "\n",
    "## Setup\n",
    "This script requires that [SageMath](https://www.sagemath.org/) be installed.\n",
    "\n",
    "\n",
    "## Environments\n",
    "windows 10 <br>\n",
    "Python 3.7 <br>\n",
    "SageMath 9.2  <br>\n"
   ]
  },
  {
   "cell_type": "code",
   "execution_count": null,
   "metadata": {},
   "outputs": [],
   "source": [
    "ftr_n=[2 , 1125899907906331 , 1125899907913247 , 1125899907914539 ,1125899907971257 , 1125899907981367 , 1125899907985417\n",
    "      , 1125899908035107 , 1125899908108333 , 1125899908156603 , 1125899908170071 , 1125899908189519 , 1125899908193707 ,\n",
    "      1125899908226623 , 1125899908245053 , 1125899908252771 , 1125899908254119 , 1125899908293109 , 1125899908300403 ,\n",
    "      1125899908340533 , 1125899908346471 , 1125899908373231 , 1125899908381643 , 1125899908403467 , 1125899908425989 ,\n",
    "      1125899908436179 , 1125899908486477 , 1125899908494437 , 1125899908507817 , 1125899908578527 , 1125899908591721 ,\n",
    "      1125899908663727 , 1125899908685441 , 1125899908726763 , 1125899908734893 , 1125899908781537 , 1125899908797227 ,\n",
    "      1125899908872191 , 1125899908903723 , 1125899908906081 ,1125899908907581]\n",
    "n = prod(ftr_n)\n",
    "p=n+1\n",
    "y=p-1\n",
    "Fp=GF(p)\n",
    "#generator\n",
    "g=Fp(2)\n",
    "#input\n",
    "h=Fp(p-17025)\n",
    "print(p)"
   ]
  },
  {
   "cell_type": "code",
   "execution_count": null,
   "metadata": {},
   "outputs": [],
   "source": [
    "gi = [0 for i in range(0,41)]\n",
    "#calculate g^(n/pi)\n",
    "for i in range(0,41):                        \n",
    "    gi[i] = pow(2, ftr_n[i], p)\n",
    "\n",
    "hi = [0 for i in range(0,41)]\n",
    "#calculate h^(n/pi)\n",
    "for i in range(0,41):                          \n",
    "    hi[i] = pow(h, ftr_n[i], p)    \n"
   ]
  },
  {
   "cell_type": "code",
   "execution_count": null,
   "metadata": {},
   "outputs": [],
   "source": [
    "print(gi)\n",
    "#print(hi)"
   ]
  },
  {
   "cell_type": "code",
   "execution_count": null,
   "metadata": {},
   "outputs": [],
   "source": [
    "#Pollard rho algorithm\n",
    "#Flyod's cycle  dection algorthm \n",
    "\n",
    "def rho(x, y, small_prime):\n",
    "    # interger mod small prime ring \n",
    "    I=IntegerModRing(small_prime)\n",
    "    # storing random number intmodring  in A and B \n",
    "    A=[I.random_element() for i in range(5)]\n",
    "    B=[I.random_element() for i in range(5)]\n",
    "    T=[x^Integer(A[i]) * y^Integer(B[i]) for i in range(5)]\n",
    "    # intialise both hare and tortoise with same postion\n",
    "    tortoise_1 = Fp(1)\n",
    "    hare_1 = Fp(1)\n",
    "    # intialise all with 0\n",
    "    tortoise_2 = I(0)\n",
    "    tortoise_3 = I(0) \n",
    "    hare_2 = I(0)\n",
    "    hare_3 = I(0) \n",
    "    while True:\n",
    "        #tortoise\n",
    "        u1= hash(tortoise_1) % 5  \n",
    "        tortoise_1,tortoise_2,tortoise_3 = (tortoise_1*T[u1], tortoise_2+A[u1], tortoise_2+B[u1])\n",
    "        #hare\n",
    "        u2=hash(hare_1) % 5\n",
    "        hare_1,hare_2,hare_3 = (hare_1*T[u2], hare_2+A[u2], hare_3+B[u2])\n",
    "        u2=hash(hare_1) % 5\n",
    "        hare_1,hare_2,hare_3 = (hare_1*T[u2], hare_2+A[u2], hare_3+B[u2])\n",
    "        # collision criteria \n",
    "        if tortoise_1 == hare_1:\n",
    "            if tortoise_3 != hare_3:\n",
    "                # inverse criteria\n",
    "                t=(tortoise_2-hare_2)*(hare_3-tortoise_3)^-1\n",
    "                l=ZZ(t)\n",
    "                if x^l == y:\n",
    "                    return l\n",
    "                    break"
   ]
  },
  {
   "cell_type": "code",
   "execution_count": null,
   "metadata": {},
   "outputs": [],
   "source": [
    "# Pohlig hellman attack \n",
    "b=[]\n",
    "for i in range(0,41):\n",
    "    a=rho(gi[i],hi[i],ftr_n[i])\n",
    "    b.append(a)\n",
    "print(b)"
   ]
  },
  {
   "cell_type": "code",
   "execution_count": null,
   "metadata": {},
   "outputs": [],
   "source": [
    "print(b)"
   ]
  },
  {
   "cell_type": "code",
   "execution_count": null,
   "metadata": {},
   "outputs": [],
   "source": [
    "# Solve CRT to get DLp\n",
    "e=CRT(b,ftr_n)\n",
    "print(e)"
   ]
  },
  {
   "cell_type": "code",
   "execution_count": null,
   "metadata": {},
   "outputs": [],
   "source": [
    "#checking reverse of dicrete logithmn\n",
    "p-g^e"
   ]
  },
  {
   "cell_type": "code",
   "execution_count": null,
   "metadata": {},
   "outputs": [],
   "source": [
    "# simpler way to calculate discrete log\n",
    "p=229626151646308923208893571434184912262527127005589389913423773029616146870270981312233491244937586913278192632890820687271771863577545792054112926066459589967354582901176287565811772801486485394056789364088708144314472899994335732710361120555238838085890219340675655338221069639977391699796720545362369833651290346341044207937143725720416109629312040984230306136265893863048506847534929639288121249772633565541096437053882503179057481530773722265537626861929987358860161135562777550683921601942022364694160613747480864570241737010815368992657418997843438431917252335086683764689042045743262370238816323\n",
    "a=mod(p-17025,p); a.log(2)"
   ]
  }
 ],
 "metadata": {
  "kernelspec": {
   "display_name": "SageMath 9.2",
   "language": "sage",
   "name": "sagemath"
  },
  "language_info": {
   "codemirror_mode": {
    "name": "ipython",
    "version": 3
   },
   "file_extension": ".py",
   "mimetype": "text/x-python",
   "name": "python",
   "nbconvert_exporter": "python",
   "pygments_lexer": "ipython3",
   "version": "3.7.7"
  }
 },
 "nbformat": 4,
 "nbformat_minor": 4
}
